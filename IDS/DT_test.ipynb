{
 "cells": [
  {
   "cell_type": "code",
   "execution_count": 94,
   "source": [
    "import numpy as np\r\n",
    "import pandas as pd\r\n",
    "import warnings\r\n",
    "warnings.filterwarnings('ignore')\r\n",
    "\r\n",
    "from sklearn.tree import DecisionTreeClassifier # Import Decision Tree Classifier\r\n",
    "from sklearn.model_selection import train_test_split # Import train_test_split function\r\n",
    "from sklearn import metrics #Import scikit-learn metrics module for accuracy calculation\r\n",
    "from sklearn.svm import OneClassSVM\r\n",
    "df = pd.read_csv (r'C:\\Users\\carlo\\Documents\\College\\reu_cyber\\test_data\\csv2\\eth2dump-clean-6h_1.csv')"
   ],
   "outputs": [],
   "metadata": {}
  },
  {
   "cell_type": "code",
   "execution_count": 95,
   "source": [
    "def transform_data(df):\r\n",
    "    macs = ['00:0c:29:9d:9e:9e','00:80:f4:09:51:3b','48:5b:39:64:40:79','00:00:29:e6:14:0d']\r\n",
    "    df = df[df['MAC Source'].isin(macs)]\r\n",
    "    grouped_ip = df.groupby(df['MAC Source'])\r\n",
    "    ip_arr_df = [grouped_ip.get_group(d) for d in df['MAC Source'].unique()]\r\n",
    "    mac_data = []\r\n",
    "    for df in ip_arr_df:\r\n",
    "        #print(df['MAC Source'].unique())\r\n",
    "        df['Epoch Time'] = pd.to_datetime(df['Epoch Time'], errors='coerce')\r\n",
    "        packets_per_min = df.set_index('Epoch Time').groupby(pd.Grouper(freq='1min'))['No.'].count()\r\n",
    "        packets_per_min = packets_per_min.fillna(0)\r\n",
    "\r\n",
    "        time_deltas = df.set_index('Epoch Time').groupby(pd.Grouper(freq='1min'))['Delta Time'].mean()\r\n",
    "        time_deltas = time_deltas.fillna(time_deltas.mean())\r\n",
    "        df_final = pd.merge(packets_per_min, time_deltas, left_index=True, right_index=True)\r\n",
    "\r\n",
    "        df_final['MAC Source'] = df['MAC Source'].unique()[0]\r\n",
    "\r\n",
    "        mac_data.append(df_final)\r\n",
    "        #plt.plot(packets_per_min.index, packets_per_min) \r\n",
    "        #print(df)\r\n",
    "        #plt.show()\r\n",
    "    df = pd.concat(mac_data)\r\n",
    "    return df\r\n",
    "\r\n",
    "def train_data_return_mod_acc(df):\r\n",
    "    X = df[['No.', 'Delta Time']]\r\n",
    "    y = df['MAC Source']\r\n",
    "\r\n",
    "    X_train, X_test, y_train, y_test = train_test_split(X, y, test_size=0.3, random_state=1) # 70% training and 30% test\r\n",
    "    clf = DecisionTreeClassifier()\r\n",
    "    clf = clf.fit(X_train,y_train)\r\n",
    "    y_pred = clf.predict(X_test)\r\n",
    "    yeet = metrics.accuracy_score(y_test, y_pred)\r\n",
    "    return yeet, clf\r\n",
    "\r\n"
   ],
   "outputs": [],
   "metadata": {}
  },
  {
   "cell_type": "code",
   "execution_count": 96,
   "source": [
    "df = df[df['MAC Source']=='00:0c:29:9d:9e:9e']\r\n",
    "df['Source Port'] = df['Source Port'].fillna(0)\r\n",
    "df['Destination Port'] = df['Destination Port'].fillna(0)\r\n",
    "\r\n",
    "X = df[['Length', 'Delta Time']]\r\n",
    "y = df['Protocol']\r\n",
    "\r\n",
    "#X_train, X_test, y_train, y_test = train_test_split(X, y, test_size=0.3, random_state=1)\r\n",
    "\r\n",
    "clf = DecisionTreeClassifier()\r\n",
    "clf = clf.fit(X,y)\r\n",
    "y_pred = clf.predict(X)\r\n",
    "yeet = metrics.accuracy_score(y, y_pred)\r\n",
    "yeet\r\n",
    "\r\n",
    "\r\n"
   ],
   "outputs": [
    {
     "output_type": "execute_result",
     "data": {
      "text/plain": [
       "0.9989585066142063"
      ]
     },
     "metadata": {},
     "execution_count": 96
    }
   ],
   "metadata": {}
  },
  {
   "cell_type": "code",
   "execution_count": 97,
   "source": [
    "# boom = r'C:\\Users\\carlo\\Documents\\College\\reu_cyber\\test2.csv'\r\n",
    "# df_mitm = pd.read_csv(boom)\r\n",
    "#df_mitm = pd.read_csv (r'C:\\Users\\carlo\\Documents\\College\\reu_cyber\\test_data\\csv2\\eth2dump-clean-1h_1.csv')\r\n",
    "df_mitm = pd.read_csv (r'C:\\Users\\carlo\\Documents\\College\\reu_cyber\\test_data\\csv2\\eth2dump-mitm-change-30m-1h_1.csv')\r\n",
    "df_mitm = df_mitm[df_mitm['MAC Source']=='00:0c:29:9d:9e:9e']\r\n",
    "df_mitm['Source Port'] = df_mitm['Source Port'].fillna(0)\r\n",
    "df_mitm['Destination Port'] = df_mitm['Destination Port'].fillna(0)\r\n",
    "X_mitm = df_mitm[['Length', 'Delta Time']]\r\n",
    "y_mitm = df_mitm['Protocol']\r\n",
    "\r\n",
    "y_pred_mitm = clf.predict(X_mitm)\r\n",
    "yeet_mitm = metrics.accuracy_score(y_mitm, y_pred_mitm)\r\n",
    "yeet_mitm"
   ],
   "outputs": [
    {
     "output_type": "execute_result",
     "data": {
      "text/plain": [
       "0.9905336349166457"
      ]
     },
     "metadata": {},
     "execution_count": 97
    }
   ],
   "metadata": {}
  }
 ],
 "metadata": {
  "orig_nbformat": 4,
  "language_info": {
   "name": "python"
  }
 },
 "nbformat": 4,
 "nbformat_minor": 2
}