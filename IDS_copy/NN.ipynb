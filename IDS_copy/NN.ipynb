{
 "cells": [
  {
   "cell_type": "code",
   "execution_count": 105,
   "source": [
    "import pandas as pd\r\n",
    "import numpy as np\r\n",
    "from tensorflow.keras.models import Sequential\r\n",
    "from tensorflow.keras.layers import Dense\r\n",
    "from tensorflow.keras.wrappers.scikit_learn import KerasRegressor\r\n",
    "from sklearn.model_selection import cross_val_score\r\n",
    "from sklearn.model_selection import KFold\r\n",
    "from sklearn.preprocessing import StandardScaler\r\n",
    "from sklearn.pipeline import Pipeline\r\n",
    "from sklearn.metrics import accuracy_score\r\n",
    "from sklearn.tree import DecisionTreeClassifier\r\n",
    "\r\n",
    "\r\n",
    "def transform(df, mac):\r\n",
    "    df['Epoch Time'] = pd.to_datetime(df['Epoch Time'], errors='coerce')\r\n",
    "    packets_per_min = df.set_index('Epoch Time').groupby(pd.Grouper(freq='15s'))['Length'].mean()\r\n",
    "    packets_per_min = packets_per_min.fillna(0)\r\n",
    "\r\n",
    "    time_deltas = df.set_index('Epoch Time').groupby(pd.Grouper(freq='15s'))['Delta Time'].mean()\r\n",
    "    time_deltas = time_deltas.fillna(time_deltas.mean())\r\n",
    "    df = pd.merge(packets_per_min, time_deltas, left_index=True, right_index=True)\r\n",
    "\r\n",
    "    df['MAC Source'] = mac\r\n",
    "    return df\r\n",
    "\r\n",
    "\r\n",
    "data = r'C:\\Users\\carlo\\Documents\\College\\reu_cyber\\test_data\\csv2\\eth2dump-clean-1h_1.csv'\r\n",
    "df = pd.read_csv(data)\r\n",
    "df = df[df['MAC Source']=='00:0c:29:9d:9e:9e']\r\n",
    "name = df['MAC Source'].unique()[0]\r\n",
    "\r\n",
    "df = transform(df, name)\r\n",
    "\r\n",
    "x = df['Delta Time'].values\r\n",
    "\r\n"
   ],
   "outputs": [],
   "metadata": {}
  },
  {
   "cell_type": "code",
   "execution_count": 106,
   "source": [
    "# define base model\r\n",
    "def baseline_model():\r\n",
    "\t# # create model\r\n",
    "\t# model = Sequential()\r\n",
    "\t# model.add(Dense(12, input_dim=1, activation='relu'))\r\n",
    "\t# model.add(Dense(8, activation='relu'))\r\n",
    "\t# model.add(Dense(1, activation='sigmoid'))\r\n",
    "\t# # Compile model\r\n",
    "\t# model.compile(loss='categorical_crossentropy')\r\n",
    "\tmodel = DecisionTreeClassifier()\r\n",
    "\treturn model"
   ],
   "outputs": [],
   "metadata": {}
  },
  {
   "cell_type": "code",
   "execution_count": 107,
   "source": [
    "from sklearn import preprocessing\r\n",
    "# estimator = KerasRegressor(build_fn=baseline_model, epochs=100, batch_size=5, verbose=0)\r\n",
    "# kfold = KFold(n_splits=10)\r\n",
    "# results = cross_val_score(estimator, x, x, cv=kfold)\r\n",
    "# print(\"Results: %.2f (%.2f) MSE\" % (results.mean(), results.std()))\r\n",
    "\r\n",
    "model = baseline_model()\r\n",
    "# model.compile(loss=\"mean_squared_error\", optimizer=\"adam\", metrics=[\"accuracy\"])\r\n",
    "\r\n",
    "x_str = [str(i) for i in x]\r\n",
    "\r\n",
    "model.fit(np.array(x).reshape(-1,1), x_str)\r\n",
    "\r\n",
    "\r\n",
    "# y_pred = model.predict(np.array(x).reshape(-1,1))\r\n",
    "# df = pd.DataFrame()\r\n",
    "# df['x'] = x\r\n",
    "# df['y'] = y_pred\r\n",
    "# y_pred = [float(i) for i in y_pred]\r\n",
    "# df['Diff'] = abs(np.array(x)-np.array(y_pred))\r\n",
    "# df.to_csv('test.csv', index=False)\r\n",
    "\r\n",
    "# acc = np.sum(abs(np.array(x)-np.array(y_pred)))\r\n",
    "\r\n",
    "\r\n",
    "\r\n"
   ],
   "outputs": [
    {
     "output_type": "execute_result",
     "data": {
      "text/plain": [
       "DecisionTreeClassifier()"
      ]
     },
     "metadata": {},
     "execution_count": 107
    }
   ],
   "metadata": {}
  },
  {
   "cell_type": "code",
   "execution_count": 111,
   "source": [
    "data = r'C:\\Users\\carlo\\Documents\\College\\reu_cyber\\test_data\\csv2\\eth2dump-clean-6h_1.csv'\r\n",
    "df = pd.read_csv(data)\r\n",
    "df = df[df['MAC Source']=='00:0c:29:9d:9e:9e']\r\n",
    "name = df['MAC Source'].unique()[0]\r\n",
    "\r\n",
    "df = transform(df, name)\r\n",
    "\r\n",
    "x = df['Delta Time'].values\r\n",
    "y_pred = model.predict(np.array(x).reshape(-1,1))\r\n",
    "df = pd.DataFrame()\r\n",
    "df['x'] = x\r\n",
    "df['y'] = y_pred\r\n",
    "y_pred = [float(i) for i in y_pred]\r\n",
    "df['Diff'] = abs(np.array(x)-np.array(y_pred))\r\n",
    "df.to_csv('test.csv', index=False)\r\n",
    "\r\n",
    "acc = np.sum(abs(np.array(x)-np.array(y_pred)))\r\n",
    "acc\r\n"
   ],
   "outputs": [
    {
     "output_type": "execute_result",
     "data": {
      "text/plain": [
       "0.17756858471713854"
      ]
     },
     "metadata": {},
     "execution_count": 111
    }
   ],
   "metadata": {}
  }
 ],
 "metadata": {
  "orig_nbformat": 4,
  "language_info": {
   "name": "python",
   "version": "3.8.6rc1",
   "mimetype": "text/x-python",
   "codemirror_mode": {
    "name": "ipython",
    "version": 3
   },
   "pygments_lexer": "ipython3",
   "nbconvert_exporter": "python",
   "file_extension": ".py"
  },
  "kernelspec": {
   "name": "python3",
   "display_name": "Python 3.8.6rc1 64-bit"
  },
  "interpreter": {
   "hash": "24b480431558bd6270bf8e2dc4c7080d28b8c31c934dd629022acb274fa9e3cd"
  }
 },
 "nbformat": 4,
 "nbformat_minor": 2
}