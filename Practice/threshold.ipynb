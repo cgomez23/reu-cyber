{
 "cells": [
  {
   "cell_type": "code",
   "execution_count": 13,
   "source": [
    "import numpy as np\r\n",
    "import pandas as pd\r\n",
    "import matplotlib\r\n",
    "import matplotlib.pyplot as plt\r\n",
    "from sklearn.neighbors import LocalOutlierFactor\r\n",
    "\r\n",
    "dataset = pd.read_csv ('test2.csv')\r\n",
    "dataset2 = pd.read_csv ('test2.csv')"
   ],
   "outputs": [],
   "metadata": {}
  },
  {
   "cell_type": "code",
   "execution_count": 14,
   "source": [
    "df = dataset[dataset['MAC Source']=='00:0c:29:9d:9e:9e']\r\n",
    "df['Epoch Time'] = pd.to_datetime(df['Epoch Time'], errors='coerce')\r\n",
    "time_deltas = df.set_index('Epoch Time').groupby(pd.Grouper(freq='1min'))['Delta Time'].mean()\r\n",
    "time_deltas = time_deltas.fillna(time_deltas.mean())\r\n",
    "p_per_sec = df.set_index('Epoch Time').groupby(pd.Grouper(freq='1min'))['No.'].count()\r\n",
    "p_per_sec = time_deltas.fillna(0)\r\n",
    "#X = df_s.drop('MAC Source', axis=1)\r\n",
    "\r\n",
    "X = pd.merge(time_deltas, p_per_sec, left_index=True, right_index=True)\r\n",
    "\r\n",
    "model = LocalOutlierFactor(n_neighbors=20, novelty=True, contamination=0.1)\r\n",
    "model.fit(X.values)"
   ],
   "outputs": [
    {
     "output_type": "stream",
     "name": "stderr",
     "text": [
      "<ipython-input-14-7c4be75cccc6>:2: SettingWithCopyWarning: \n",
      "A value is trying to be set on a copy of a slice from a DataFrame.\n",
      "Try using .loc[row_indexer,col_indexer] = value instead\n",
      "\n",
      "See the caveats in the documentation: https://pandas.pydata.org/pandas-docs/stable/user_guide/indexing.html#returning-a-view-versus-a-copy\n",
      "  df['Epoch Time'] = pd.to_datetime(df['Epoch Time'], errors='coerce')\n"
     ]
    },
    {
     "output_type": "execute_result",
     "data": {
      "text/plain": [
       "LocalOutlierFactor(contamination=0.1, novelty=True)"
      ]
     },
     "metadata": {},
     "execution_count": 14
    }
   ],
   "metadata": {}
  },
  {
   "cell_type": "code",
   "execution_count": 15,
   "source": [
    "X['scores']=model.decision_function(X[X.columns[0:2]].values)\r\n",
    "X['anomaly']=model.predict(X[X.columns[0:2]].values)\r\n",
    "anomaly=X.loc[X['anomaly']==-1]\r\n",
    "model.fit(anomaly[anomaly.columns[0:2]].values)"
   ],
   "outputs": [
    {
     "output_type": "stream",
     "name": "stderr",
     "text": [
      "C:\\Users\\carlo\\AppData\\Roaming\\Python\\Python38\\site-packages\\sklearn\\neighbors\\_lof.py:265: UserWarning: n_neighbors (20) is greater than the total number of samples (5). n_neighbors will be set to (n_samples - 1) for estimation.\n",
      "  warnings.warn(\"n_neighbors (%s) is greater than the \"\n"
     ]
    },
    {
     "output_type": "execute_result",
     "data": {
      "text/plain": [
       "LocalOutlierFactor(contamination=0.1, novelty=True)"
      ]
     },
     "metadata": {},
     "execution_count": 15
    }
   ],
   "metadata": {}
  },
  {
   "cell_type": "code",
   "execution_count": 16,
   "source": [
    "df = dataset2[dataset2['MAC Source']=='00:80:f4:09:51:3b']\r\n",
    "df['Epoch Time'] = pd.to_datetime(df['Epoch Time'], errors='coerce')\r\n",
    "time_deltas = df.set_index('Epoch Time').groupby(pd.Grouper(freq='1min'))['Delta Time'].mean()\r\n",
    "time_deltas = time_deltas.fillna(time_deltas.mean())\r\n",
    "p_per_sec = df.set_index('Epoch Time').groupby(pd.Grouper(freq='1min'))['No.'].count()\r\n",
    "p_per_sec = time_deltas.fillna(0)\r\n",
    "\r\n",
    "X_test = pd.merge(time_deltas, p_per_sec, left_index=True, right_index=True)\r\n",
    "X_final = X_test\r\n",
    "\r\n",
    "X_final['scores'] = model.decision_function(X_test[X_test.columns[0:2]].values)\r\n",
    "X_final['anomaly'] = model.predict(X_test[X_test.columns[0:2]].values)\r\n",
    "anomaly=X_final.loc[X_final['anomaly']==-1]\r\n",
    "\r\n"
   ],
   "outputs": [
    {
     "output_type": "stream",
     "name": "stderr",
     "text": [
      "<ipython-input-16-581dc75f59ef>:2: SettingWithCopyWarning: \n",
      "A value is trying to be set on a copy of a slice from a DataFrame.\n",
      "Try using .loc[row_indexer,col_indexer] = value instead\n",
      "\n",
      "See the caveats in the documentation: https://pandas.pydata.org/pandas-docs/stable/user_guide/indexing.html#returning-a-view-versus-a-copy\n",
      "  df['Epoch Time'] = pd.to_datetime(df['Epoch Time'], errors='coerce')\n"
     ]
    }
   ],
   "metadata": {}
  },
  {
   "cell_type": "code",
   "execution_count": 17,
   "source": [
    "# X_final['scores']=model.decision_function(X_test[X_test.columns[0:2]].values)\r\n",
    "# X_final['anomaly']=model.predict(X_test[X_test.columns[0:2]].values)\r\n",
    "# anomaly=X_final.loc[X_final['anomaly']==-1]"
   ],
   "outputs": [],
   "metadata": {}
  },
  {
   "cell_type": "code",
   "execution_count": 18,
   "source": [
    "\r\n",
    "\r\n",
    "threshold = (anomaly['scores'].min() + anomaly['scores'].max())/2\r\n",
    "anomaly#[anomaly['scores']<threshold]"
   ],
   "outputs": [
    {
     "output_type": "execute_result",
     "data": {
      "text/plain": [
       "                     Delta Time_x  Delta Time_y    scores  anomaly\n",
       "Epoch Time                                                        \n",
       "2018-09-08 20:54:00      0.006298      0.006298 -4.145717       -1\n",
       "2018-09-08 20:55:00      0.006335      0.006335 -4.143946       -1\n",
       "2018-09-08 20:56:00      0.005871      0.005871 -4.166022       -1\n",
       "2018-09-08 20:57:00      0.006600      0.006600 -4.131329       -1\n",
       "2018-09-08 20:58:00      0.006323      0.006323 -4.144525       -1\n",
       "...                           ...           ...       ...      ...\n",
       "2018-09-08 21:50:00      0.006400      0.006400 -4.140861       -1\n",
       "2018-09-08 21:51:00      0.005943      0.005943 -4.162586       -1\n",
       "2018-09-08 21:52:00      0.006298      0.006298 -4.145697       -1\n",
       "2018-09-08 21:53:00      0.006162      0.006162 -4.152170       -1\n",
       "2018-09-08 21:54:00      0.005950      0.005950 -4.162234       -1\n",
       "\n",
       "[61 rows x 4 columns]"
      ],
      "text/html": [
       "<div>\n",
       "<style scoped>\n",
       "    .dataframe tbody tr th:only-of-type {\n",
       "        vertical-align: middle;\n",
       "    }\n",
       "\n",
       "    .dataframe tbody tr th {\n",
       "        vertical-align: top;\n",
       "    }\n",
       "\n",
       "    .dataframe thead th {\n",
       "        text-align: right;\n",
       "    }\n",
       "</style>\n",
       "<table border=\"1\" class=\"dataframe\">\n",
       "  <thead>\n",
       "    <tr style=\"text-align: right;\">\n",
       "      <th></th>\n",
       "      <th>Delta Time_x</th>\n",
       "      <th>Delta Time_y</th>\n",
       "      <th>scores</th>\n",
       "      <th>anomaly</th>\n",
       "    </tr>\n",
       "    <tr>\n",
       "      <th>Epoch Time</th>\n",
       "      <th></th>\n",
       "      <th></th>\n",
       "      <th></th>\n",
       "      <th></th>\n",
       "    </tr>\n",
       "  </thead>\n",
       "  <tbody>\n",
       "    <tr>\n",
       "      <th>2018-09-08 20:54:00</th>\n",
       "      <td>0.006298</td>\n",
       "      <td>0.006298</td>\n",
       "      <td>-4.145717</td>\n",
       "      <td>-1</td>\n",
       "    </tr>\n",
       "    <tr>\n",
       "      <th>2018-09-08 20:55:00</th>\n",
       "      <td>0.006335</td>\n",
       "      <td>0.006335</td>\n",
       "      <td>-4.143946</td>\n",
       "      <td>-1</td>\n",
       "    </tr>\n",
       "    <tr>\n",
       "      <th>2018-09-08 20:56:00</th>\n",
       "      <td>0.005871</td>\n",
       "      <td>0.005871</td>\n",
       "      <td>-4.166022</td>\n",
       "      <td>-1</td>\n",
       "    </tr>\n",
       "    <tr>\n",
       "      <th>2018-09-08 20:57:00</th>\n",
       "      <td>0.006600</td>\n",
       "      <td>0.006600</td>\n",
       "      <td>-4.131329</td>\n",
       "      <td>-1</td>\n",
       "    </tr>\n",
       "    <tr>\n",
       "      <th>2018-09-08 20:58:00</th>\n",
       "      <td>0.006323</td>\n",
       "      <td>0.006323</td>\n",
       "      <td>-4.144525</td>\n",
       "      <td>-1</td>\n",
       "    </tr>\n",
       "    <tr>\n",
       "      <th>...</th>\n",
       "      <td>...</td>\n",
       "      <td>...</td>\n",
       "      <td>...</td>\n",
       "      <td>...</td>\n",
       "    </tr>\n",
       "    <tr>\n",
       "      <th>2018-09-08 21:50:00</th>\n",
       "      <td>0.006400</td>\n",
       "      <td>0.006400</td>\n",
       "      <td>-4.140861</td>\n",
       "      <td>-1</td>\n",
       "    </tr>\n",
       "    <tr>\n",
       "      <th>2018-09-08 21:51:00</th>\n",
       "      <td>0.005943</td>\n",
       "      <td>0.005943</td>\n",
       "      <td>-4.162586</td>\n",
       "      <td>-1</td>\n",
       "    </tr>\n",
       "    <tr>\n",
       "      <th>2018-09-08 21:52:00</th>\n",
       "      <td>0.006298</td>\n",
       "      <td>0.006298</td>\n",
       "      <td>-4.145697</td>\n",
       "      <td>-1</td>\n",
       "    </tr>\n",
       "    <tr>\n",
       "      <th>2018-09-08 21:53:00</th>\n",
       "      <td>0.006162</td>\n",
       "      <td>0.006162</td>\n",
       "      <td>-4.152170</td>\n",
       "      <td>-1</td>\n",
       "    </tr>\n",
       "    <tr>\n",
       "      <th>2018-09-08 21:54:00</th>\n",
       "      <td>0.005950</td>\n",
       "      <td>0.005950</td>\n",
       "      <td>-4.162234</td>\n",
       "      <td>-1</td>\n",
       "    </tr>\n",
       "  </tbody>\n",
       "</table>\n",
       "<p>61 rows × 4 columns</p>\n",
       "</div>"
      ]
     },
     "metadata": {},
     "execution_count": 18
    }
   ],
   "metadata": {}
  }
 ],
 "metadata": {
  "orig_nbformat": 4,
  "language_info": {
   "name": "python"
  }
 },
 "nbformat": 4,
 "nbformat_minor": 2
}