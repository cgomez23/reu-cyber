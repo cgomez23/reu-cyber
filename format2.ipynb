{
 "metadata": {
  "language_info": {
   "name": "python",
   "version": "3.8.6rc1",
   "mimetype": "text/x-python",
   "codemirror_mode": {
    "name": "ipython",
    "version": 3
   },
   "pygments_lexer": "ipython3",
   "nbconvert_exporter": "python",
   "file_extension": ".py"
  },
  "orig_nbformat": 4,
  "kernelspec": {
   "name": "python3",
   "display_name": "Python 3.8.6rc1 64-bit"
  },
  "interpreter": {
   "hash": "24b480431558bd6270bf8e2dc4c7080d28b8c31c934dd629022acb274fa9e3cd"
  }
 },
 "nbformat": 4,
 "nbformat_minor": 2,
 "cells": [
  {
   "cell_type": "code",
   "execution_count": 1,
   "source": [
    "import pandas as pd\r\n",
    "import numpy as np\r\n",
    "import re\r\n",
    "from pandas.plotting import scatter_matrix\r\n",
    "from matplotlib import pyplot\r\n",
    "from dateutil import parser\r\n",
    "import warnings\r\n",
    "warnings.filterwarnings('ignore')"
   ],
   "outputs": [],
   "metadata": {}
  },
  {
   "cell_type": "code",
   "execution_count": 2,
   "source": [
    "dataset = pd.read_csv ('../test_data/csv2/eth2dump-clean-6h_1.csv')\r\n",
    "dataset = dataset[(dataset['MAC Source']=='00:0c:29:e6:14:0d') | (dataset['MAC Source']=='00:0c:29:9d:9e:9e') | (dataset['MAC Source']=='48:5b:39:64:40:79') | (dataset['MAC Source']=='00:80:f4:09:51:3b')]"
   ],
   "outputs": [],
   "metadata": {}
  },
  {
   "cell_type": "code",
   "execution_count": 3,
   "source": [
    "regex = \"^((25[0-5]|2[0-4][0-9]|1[0-9][0-9]|[1-9]?[0-9])\\.){3}(25[0-5]|2[0-4][0-9]|1[0-9][0-9]|[1-9]?[0-9])$\"\r\n",
    "\r\n",
    "def check(Ip):\r\n",
    "    if(re.search(regex, Ip)):\r\n",
    "        return True\r\n",
    "    else:\r\n",
    "        return False"
   ],
   "outputs": [],
   "metadata": {}
  },
  {
   "cell_type": "code",
   "execution_count": 4,
   "source": [
    "#dataset_ip_nodes = df_mitm[df_mitm['MAC Source'].map(check)]\r\n",
    "distinct = dataset['MAC Source'].unique()\r\n",
    "grouped_ip = dataset.groupby(dataset['MAC Source'])\r\n",
    "ip_arr_df = [grouped_ip.get_group(d) for d in distinct]\r\n",
    "grouped_ip.groups.keys()\r\n"
   ],
   "outputs": [
    {
     "output_type": "execute_result",
     "data": {
      "text/plain": [
       "dict_keys(['00:0c:29:9d:9e:9e', '00:80:f4:09:51:3b', '48:5b:39:64:40:79'])"
      ]
     },
     "metadata": {},
     "execution_count": 4
    }
   ],
   "metadata": {}
  },
  {
   "cell_type": "code",
   "execution_count": 6,
   "source": [
    "pyplot.rcParams[\"figure.figsize\"] = (20,5)\r\n",
    "fig, ax1 = pyplot.subplots()\r\n",
    "for df in ip_arr_df:\r\n",
    "    time_group = '1min'\r\n",
    "    #df[df['Protocol']=='TCP']\r\n",
    "    print(df['MAC Source'].unique())\r\n",
    "    name = df['MAC Source'].unique()[0]\r\n",
    "    # df['Epoch Time'] = pd.to_datetime(df['Epoch Time'], errors='coerce')\r\n",
    "    # packets_per_sec = df.set_index('Epoch Time').groupby(pd.Grouper(freq=time_group))['Delta Time'].mean()\r\n",
    "    # packets_per_sec = packets_per_sec.fillna(packets_per_sec.mean())\r\n",
    "    # pyplot.plot(packets_per_sec.index, packets_per_sec) \r\n",
    "\r\n",
    "    df['Epoch Time'] = pd.to_datetime(df['Epoch Time'], errors='coerce')\r\n",
    "    packets_per_min = df.set_index('Epoch Time').groupby(pd.Grouper(freq=time_group))['Length'].mean()\r\n",
    "    packets_per_min = packets_per_min.fillna(0)\r\n",
    "\r\n",
    "    time_deltas = df.set_index('Epoch Time').groupby(pd.Grouper(freq=time_group))['Delta Time'].mean()\r\n",
    "    time_deltas = time_deltas.fillna(time_deltas.mean())\r\n",
    "    df = pd.merge(packets_per_min, time_deltas, left_index=True, right_index=True)\r\n",
    "    # print(df.columns)\r\n",
    "    # fig = pyplot.figure()\r\n",
    "    # ax1 = fig.add_subplot(111)\r\n",
    "    ax1.scatter(df['Delta Time'], df['Length'], label=name) #c=dataset['Source'].map(colors)\r\n",
    "    # pyplot.show()\r\n",
    "    # print(df['Source'].unique())\r\n",
    "\r\n",
    "    # fig, ax = pyplot.subplots()\r\n",
    "    # ax.scatter(packets_per_sec.index, packets_per_sec) #c=dataset['Source'].map(colors)\r\n",
    " \r\n",
    "    # pyplot.show()\r\n",
    "    # pyplot.show()\r\n",
    "    # df['Protocol'].value_counts().plot.bar()\r\n",
    "    # df['Protocol'].value_counts().plot.pie()\r\n",
    "\r\n",
    "pyplot.show()\r\n",
    "    #DDOS"
   ],
   "outputs": [
    {
     "output_type": "stream",
     "name": "stdout",
     "text": [
      "['00:0c:29:9d:9e:9e']\n",
      "['00:80:f4:09:51:3b']\n",
      "['48:5b:39:64:40:79']\n"
     ]
    },
    {
     "output_type": "display_data",
     "data": {
      "text/plain": [
       "<Figure size 1440x360 with 1 Axes>"
      ],
      "image/png": "[encoded data removed]"
     },
     "metadata": {
      "needs_background": "light"
     }
    }
   ],
   "metadata": {}
  },
  {
   "cell_type": "code",
   "execution_count": null,
   "source": [],
   "outputs": [],
   "metadata": {}
  }
 ]
}